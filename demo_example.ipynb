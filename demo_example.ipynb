{
 "cells": [
  {
   "cell_type": "code",
   "execution_count": 1,
   "id": "8c951601",
   "metadata": {},
   "outputs": [],
   "source": [
    "import os\n",
    "from pathlib import Path\n",
    "import pandas as pd\n",
    "import torch\n",
    "from nonCondon.Make_prediction import *"
   ]
  },
  {
   "cell_type": "code",
   "execution_count": 2,
   "id": "1f751576-6a1e-4083-9732-977c3ccc988d",
   "metadata": {},
   "outputs": [],
   "source": [
    "# load demo data\n",
    "X_CCC_body_demo = pd.read_csv(\"demo_data/electric_field_C_CC_body_demo.dat\", header=None, sep='\\s+')\n",
    "X_CCC_head_demo = pd.read_csv(\"demo_data/electric_field_C_CC_head_demo.dat\", header=None, sep='\\s+')\n",
    "X_CCO_body_demo = pd.read_csv(\"demo_data/electric_field_C_CO_body_demo.dat\", header=None, sep='\\s+')\n",
    "X_CCO_head_demo = pd.read_csv(\"demo_data/electric_field_C_CO_head_demo.dat\", header=None, sep='\\s+')\n",
    "X_GCO_body_demo = pd.read_csv(\"demo_data/electric_field_G_CO_body_demo.dat\", header=None, sep='\\s+')\n",
    "X_GCO_head_demo = pd.read_csv(\"demo_data/electric_field_G_CO_head_demo.dat\", header=None, sep='\\s+')"
   ]
  },
  {
   "cell_type": "code",
   "execution_count": 3,
   "id": "3ff5f2f6-92d2-424e-b029-22d301e46491",
   "metadata": {},
   "outputs": [],
   "source": [
    "# only use electric fields of C_5 and C_6 for C=C cases\n",
    "X_CCC_body_demo = X_CCC_body_demo.iloc[:, [0, 1, 2, 6, 7, 8]]\n",
    "X_CCC_head_demo = X_CCC_head_demo.iloc[:, [0, 1, 2, 6, 7, 8]]"
   ]
  },
  {
   "cell_type": "code",
   "execution_count": 4,
   "id": "6bb0d2f6-310f-4147-88fb-bc127187e740",
   "metadata": {},
   "outputs": [],
   "source": [
    "# Load standardizers we used\n",
    "sd_CCC_body, sd_CCC_head, sd_CCO_body, sd_CCO_head, sd_GCO_body, sd_GCO_head = load_standardizers(\"nonCondon/standardizer\")"
   ]
  },
  {
   "cell_type": "code",
   "execution_count": 5,
   "id": "0774ced9-1dea-4ff6-85e3-276b32a4311a",
   "metadata": {},
   "outputs": [],
   "source": [
    "X_CCC_body_demo = torch.FloatTensor(sd_CCC_body.transform(X_CCC_body_demo))\n",
    "X_CCC_head_demo = torch.FloatTensor(sd_CCC_body.transform(X_CCC_head_demo))\n",
    "X_CCO_body_demo = torch.FloatTensor(sd_CCO_body.transform(X_CCO_body_demo))\n",
    "X_CCO_head_demo = torch.FloatTensor(sd_CCO_body.transform(X_CCO_head_demo))\n",
    "X_GCO_body_demo = torch.FloatTensor(sd_GCO_body.transform(X_GCO_body_demo))\n",
    "X_GCO_head_demo = torch.FloatTensor(sd_GCO_body.transform(X_GCO_head_demo))"
   ]
  },
  {
   "cell_type": "code",
   "execution_count": 6,
   "id": "11648578-b36b-4fb0-b779-f17355615a1b",
   "metadata": {},
   "outputs": [],
   "source": [
    "# Notice the order of inputs\n",
    "magnitudes = make_prediction(X_CCC_head_demo, X_CCC_body_demo, X_CCO_head_demo, X_CCO_body_demo, X_GCO_head_demo, X_GCO_body_demo, folder=\"nonCondon/saved_model\")"
   ]
  },
  {
   "cell_type": "code",
   "execution_count": 7,
   "id": "84b6c50c-3e8b-4e5b-83da-b2c496667b12",
   "metadata": {},
   "outputs": [],
   "source": [
    "# Unpack the predicted magnitudes\n",
    "C_CC_magnitude_head, C_CC_magnitude_body, C_CO_magnitude_head, C_CO_magnitude_body, G_CO_magnitude_head, G_CO_magnitude_body = magnitudes"
   ]
  },
  {
   "cell_type": "code",
   "execution_count": 8,
   "id": "9308afbd-40d5-450b-9bf5-967a1aa61c6d",
   "metadata": {},
   "outputs": [],
   "source": [
    "# Save the predicted magnitudes\n",
    "Path(\"predictions\").mkdir(parents=True, exist_ok=True)\n",
    "save_tensor(C_CC_magnitude_head, \"predictions/C_CC_magnitude_head.csv\")\n",
    "save_tensor(C_CO_magnitude_head, \"predictions/C_CO_magnitude_head.csv\")\n",
    "save_tensor(G_CO_magnitude_head, \"predictions/G_CO_magnitude_head.csv\")\n",
    "save_tensor(C_CC_magnitude_body, \"predictions/C_CC_magnitude_body.csv\")\n",
    "save_tensor(C_CO_magnitude_body, \"predictions/C_CO_magnitude_body.csv\")\n",
    "save_tensor(G_CO_magnitude_body, \"predictions/G_CO_magnitude_body.csv\")"
   ]
  }
 ],
 "metadata": {
  "kernelspec": {
   "display_name": "Python 3 (ipykernel)",
   "language": "python",
   "name": "python3"
  },
  "language_info": {
   "codemirror_mode": {
    "name": "ipython",
    "version": 3
   },
   "file_extension": ".py",
   "mimetype": "text/x-python",
   "name": "python",
   "nbconvert_exporter": "python",
   "pygments_lexer": "ipython3",
   "version": "3.9.13"
  }
 },
 "nbformat": 4,
 "nbformat_minor": 5
}
